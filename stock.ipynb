{
 "cells": [
  {
   "cell_type": "code",
   "execution_count": 24,
   "metadata": {
    "ExecuteTime": {
     "end_time": "2018-12-24T10:02:49.093113Z",
     "start_time": "2018-12-24T10:02:49.075770Z"
    }
   },
   "outputs": [],
   "source": [
    "import pandas as pd\n",
    "import numpy as np\n",
    "import os\n",
    "pd.set_option('display.max_rows', 500)"
   ]
  },
  {
   "cell_type": "code",
   "execution_count": 10,
   "metadata": {
    "ExecuteTime": {
     "end_time": "2018-12-24T09:35:38.133831Z",
     "start_time": "2018-12-24T09:35:37.938358Z"
    }
   },
   "outputs": [],
   "source": [
    "df_all = None\n",
    "\n",
    "for index in os.listdir('stock_data/'):\n",
    "    df = pd.read_csv('stock_data/' + index, sep='\\t', names=[\n",
    "        'Date', 'Close', 'Open', 'High', 'Low', 'Amount', 'Pctchg'\n",
    "    ])\n",
    "    df['Index'] = index\n",
    "    if df_all is None:\n",
    "        df_all = df\n",
    "    else:\n",
    "        df_all = df_all.append(df, ignore_index=True)"
   ]
  },
  {
   "cell_type": "code",
   "execution_count": 16,
   "metadata": {
    "ExecuteTime": {
     "end_time": "2018-12-24T09:40:33.314698Z",
     "start_time": "2018-12-24T09:40:33.265042Z"
    }
   },
   "outputs": [],
   "source": [
    "df_all['Close_int'] = pd.to_numeric(df_all['Close'].str.replace(',', ''))\n",
    "df_all['Close_int'] = df_all['Close_int'].astype(int)"
   ]
  },
  {
   "cell_type": "code",
   "execution_count": null,
   "metadata": {
    "ExecuteTime": {
     "end_time": "2018-12-24T09:41:42.777255Z",
     "start_time": "2018-12-24T09:41:42.291646Z"
    }
   },
   "outputs": [],
   "source": [
    "df_all['odd'] = df_all['Close_int'] % 2\n",
    "df_all['last'] = df_all['Close_int'] % 10"
   ]
  },
  {
   "cell_type": "code",
   "execution_count": 35,
   "metadata": {
    "ExecuteTime": {
     "end_time": "2018-12-24T10:05:13.235228Z",
     "start_time": "2018-12-24T10:05:13.213813Z"
    }
   },
   "outputs": [],
   "source": [
    "df_all['last_less5'] = df_all['last'] < 5"
   ]
  },
  {
   "cell_type": "code",
   "execution_count": 38,
   "metadata": {
    "ExecuteTime": {
     "end_time": "2018-12-24T10:09:30.100231Z",
     "start_time": "2018-12-24T10:09:30.075464Z"
    }
   },
   "outputs": [],
   "source": [
    "for i in range(9):\n",
    "    df_all['last_eq_{}'.format(i)] = df_all['last'] == i"
   ]
  },
  {
   "cell_type": "code",
   "execution_count": 39,
   "metadata": {
    "ExecuteTime": {
     "end_time": "2018-12-24T10:09:33.796469Z",
     "start_time": "2018-12-24T10:09:33.747432Z"
    }
   },
   "outputs": [
    {
     "data": {
      "text/html": [
       "<div>\n",
       "<style scoped>\n",
       "    .dataframe tbody tr th:only-of-type {\n",
       "        vertical-align: middle;\n",
       "    }\n",
       "\n",
       "    .dataframe tbody tr th {\n",
       "        vertical-align: top;\n",
       "    }\n",
       "\n",
       "    .dataframe thead th {\n",
       "        text-align: right;\n",
       "    }\n",
       "</style>\n",
       "<table border=\"1\" class=\"dataframe\">\n",
       "  <thead>\n",
       "    <tr style=\"text-align: right;\">\n",
       "      <th></th>\n",
       "      <th>Close_int</th>\n",
       "      <th>odd</th>\n",
       "      <th>last</th>\n",
       "      <th>last_less5</th>\n",
       "      <th>last_eq_0</th>\n",
       "      <th>last_eq_1</th>\n",
       "      <th>last_eq_2</th>\n",
       "      <th>last_eq_3</th>\n",
       "      <th>last_eq_4</th>\n",
       "      <th>last_eq_5</th>\n",
       "      <th>last_eq_6</th>\n",
       "      <th>last_eq_7</th>\n",
       "      <th>last_eq_8</th>\n",
       "    </tr>\n",
       "    <tr>\n",
       "      <th>Index</th>\n",
       "      <th></th>\n",
       "      <th></th>\n",
       "      <th></th>\n",
       "      <th></th>\n",
       "      <th></th>\n",
       "      <th></th>\n",
       "      <th></th>\n",
       "      <th></th>\n",
       "      <th></th>\n",
       "      <th></th>\n",
       "      <th></th>\n",
       "      <th></th>\n",
       "      <th></th>\n",
       "    </tr>\n",
       "  </thead>\n",
       "  <tbody>\n",
       "    <tr>\n",
       "      <th>DJI</th>\n",
       "      <td>15234.687687</td>\n",
       "      <td>0.489877</td>\n",
       "      <td>4.445403</td>\n",
       "      <td>0.507800</td>\n",
       "      <td>0.110521</td>\n",
       "      <td>0.096250</td>\n",
       "      <td>0.104879</td>\n",
       "      <td>0.101228</td>\n",
       "      <td>0.094922</td>\n",
       "      <td>0.098905</td>\n",
       "      <td>0.098241</td>\n",
       "      <td>0.090939</td>\n",
       "      <td>0.101560</td>\n",
       "    </tr>\n",
       "    <tr>\n",
       "      <th>FCHI</th>\n",
       "      <td>4288.367351</td>\n",
       "      <td>0.500108</td>\n",
       "      <td>4.440865</td>\n",
       "      <td>0.510270</td>\n",
       "      <td>0.108108</td>\n",
       "      <td>0.095568</td>\n",
       "      <td>0.102703</td>\n",
       "      <td>0.105514</td>\n",
       "      <td>0.098378</td>\n",
       "      <td>0.097297</td>\n",
       "      <td>0.096216</td>\n",
       "      <td>0.102703</td>\n",
       "      <td>0.094486</td>\n",
       "    </tr>\n",
       "    <tr>\n",
       "      <th>GDAXI</th>\n",
       "      <td>7183.515741</td>\n",
       "      <td>0.499563</td>\n",
       "      <td>4.532357</td>\n",
       "      <td>0.498251</td>\n",
       "      <td>0.099694</td>\n",
       "      <td>0.094666</td>\n",
       "      <td>0.098164</td>\n",
       "      <td>0.097289</td>\n",
       "      <td>0.108439</td>\n",
       "      <td>0.100787</td>\n",
       "      <td>0.095540</td>\n",
       "      <td>0.105815</td>\n",
       "      <td>0.098601</td>\n",
       "    </tr>\n",
       "    <tr>\n",
       "      <th>HS300</th>\n",
       "      <td>2864.595413</td>\n",
       "      <td>0.507792</td>\n",
       "      <td>4.492502</td>\n",
       "      <td>0.497501</td>\n",
       "      <td>0.097324</td>\n",
       "      <td>0.104087</td>\n",
       "      <td>0.089680</td>\n",
       "      <td>0.104969</td>\n",
       "      <td>0.101441</td>\n",
       "      <td>0.103499</td>\n",
       "      <td>0.100265</td>\n",
       "      <td>0.107909</td>\n",
       "      <td>0.103499</td>\n",
       "    </tr>\n",
       "    <tr>\n",
       "      <th>HSI</th>\n",
       "      <td>19403.041760</td>\n",
       "      <td>0.490174</td>\n",
       "      <td>4.457570</td>\n",
       "      <td>0.507816</td>\n",
       "      <td>0.109870</td>\n",
       "      <td>0.100715</td>\n",
       "      <td>0.097588</td>\n",
       "      <td>0.098481</td>\n",
       "      <td>0.101161</td>\n",
       "      <td>0.093569</td>\n",
       "      <td>0.098928</td>\n",
       "      <td>0.097365</td>\n",
       "      <td>0.102278</td>\n",
       "    </tr>\n",
       "    <tr>\n",
       "      <th>IXIC</th>\n",
       "      <td>3196.004618</td>\n",
       "      <td>0.499890</td>\n",
       "      <td>4.498131</td>\n",
       "      <td>0.493512</td>\n",
       "      <td>0.104245</td>\n",
       "      <td>0.097867</td>\n",
       "      <td>0.103365</td>\n",
       "      <td>0.095008</td>\n",
       "      <td>0.093028</td>\n",
       "      <td>0.103145</td>\n",
       "      <td>0.104904</td>\n",
       "      <td>0.100066</td>\n",
       "      <td>0.094568</td>\n",
       "    </tr>\n",
       "    <tr>\n",
       "      <th>JKSE</th>\n",
       "      <td>2937.572336</td>\n",
       "      <td>0.506122</td>\n",
       "      <td>4.409070</td>\n",
       "      <td>0.511338</td>\n",
       "      <td>0.104082</td>\n",
       "      <td>0.105442</td>\n",
       "      <td>0.100000</td>\n",
       "      <td>0.098639</td>\n",
       "      <td>0.103175</td>\n",
       "      <td>0.108617</td>\n",
       "      <td>0.095238</td>\n",
       "      <td>0.095692</td>\n",
       "      <td>0.091383</td>\n",
       "    </tr>\n",
       "    <tr>\n",
       "      <th>KS11</th>\n",
       "      <td>1564.478867</td>\n",
       "      <td>0.503147</td>\n",
       "      <td>4.535072</td>\n",
       "      <td>0.498426</td>\n",
       "      <td>0.094874</td>\n",
       "      <td>0.094649</td>\n",
       "      <td>0.096673</td>\n",
       "      <td>0.105216</td>\n",
       "      <td>0.107014</td>\n",
       "      <td>0.101394</td>\n",
       "      <td>0.101844</td>\n",
       "      <td>0.101619</td>\n",
       "      <td>0.096448</td>\n",
       "    </tr>\n",
       "    <tr>\n",
       "      <th>N225</th>\n",
       "      <td>20654.938250</td>\n",
       "      <td>0.485420</td>\n",
       "      <td>4.612350</td>\n",
       "      <td>0.481990</td>\n",
       "      <td>0.109777</td>\n",
       "      <td>0.090909</td>\n",
       "      <td>0.084048</td>\n",
       "      <td>0.084048</td>\n",
       "      <td>0.113208</td>\n",
       "      <td>0.096055</td>\n",
       "      <td>0.094340</td>\n",
       "      <td>0.116638</td>\n",
       "      <td>0.113208</td>\n",
       "    </tr>\n",
       "    <tr>\n",
       "      <th>SPX</th>\n",
       "      <td>1665.030340</td>\n",
       "      <td>0.508121</td>\n",
       "      <td>4.500153</td>\n",
       "      <td>0.492798</td>\n",
       "      <td>0.103279</td>\n",
       "      <td>0.095924</td>\n",
       "      <td>0.108796</td>\n",
       "      <td>0.099295</td>\n",
       "      <td>0.085504</td>\n",
       "      <td>0.109102</td>\n",
       "      <td>0.093472</td>\n",
       "      <td>0.100215</td>\n",
       "      <td>0.100827</td>\n",
       "    </tr>\n",
       "    <tr>\n",
       "      <th>SSEA</th>\n",
       "      <td>3377.380140</td>\n",
       "      <td>0.477432</td>\n",
       "      <td>4.641926</td>\n",
       "      <td>0.482447</td>\n",
       "      <td>0.094283</td>\n",
       "      <td>0.079238</td>\n",
       "      <td>0.098295</td>\n",
       "      <td>0.103310</td>\n",
       "      <td>0.107322</td>\n",
       "      <td>0.096289</td>\n",
       "      <td>0.111334</td>\n",
       "      <td>0.100301</td>\n",
       "      <td>0.111334</td>\n",
       "    </tr>\n",
       "    <tr>\n",
       "      <th>SZSC</th>\n",
       "      <td>1623.884008</td>\n",
       "      <td>0.490734</td>\n",
       "      <td>4.563487</td>\n",
       "      <td>0.494166</td>\n",
       "      <td>0.096088</td>\n",
       "      <td>0.104324</td>\n",
       "      <td>0.101579</td>\n",
       "      <td>0.086479</td>\n",
       "      <td>0.105697</td>\n",
       "      <td>0.100892</td>\n",
       "      <td>0.101579</td>\n",
       "      <td>0.083047</td>\n",
       "      <td>0.104324</td>\n",
       "    </tr>\n",
       "    <tr>\n",
       "      <th>TWII</th>\n",
       "      <td>8907.219917</td>\n",
       "      <td>0.490664</td>\n",
       "      <td>4.507261</td>\n",
       "      <td>0.497407</td>\n",
       "      <td>0.100104</td>\n",
       "      <td>0.101141</td>\n",
       "      <td>0.095954</td>\n",
       "      <td>0.095954</td>\n",
       "      <td>0.104253</td>\n",
       "      <td>0.096992</td>\n",
       "      <td>0.106846</td>\n",
       "      <td>0.101660</td>\n",
       "      <td>0.102178</td>\n",
       "    </tr>\n",
       "  </tbody>\n",
       "</table>\n",
       "</div>"
      ],
      "text/plain": [
       "          Close_int       odd      last  last_less5  last_eq_0  last_eq_1  \\\n",
       "Index                                                                       \n",
       "DJI    15234.687687  0.489877  4.445403    0.507800   0.110521   0.096250   \n",
       "FCHI    4288.367351  0.500108  4.440865    0.510270   0.108108   0.095568   \n",
       "GDAXI   7183.515741  0.499563  4.532357    0.498251   0.099694   0.094666   \n",
       "HS300   2864.595413  0.507792  4.492502    0.497501   0.097324   0.104087   \n",
       "HSI    19403.041760  0.490174  4.457570    0.507816   0.109870   0.100715   \n",
       "IXIC    3196.004618  0.499890  4.498131    0.493512   0.104245   0.097867   \n",
       "JKSE    2937.572336  0.506122  4.409070    0.511338   0.104082   0.105442   \n",
       "KS11    1564.478867  0.503147  4.535072    0.498426   0.094874   0.094649   \n",
       "N225   20654.938250  0.485420  4.612350    0.481990   0.109777   0.090909   \n",
       "SPX     1665.030340  0.508121  4.500153    0.492798   0.103279   0.095924   \n",
       "SSEA    3377.380140  0.477432  4.641926    0.482447   0.094283   0.079238   \n",
       "SZSC    1623.884008  0.490734  4.563487    0.494166   0.096088   0.104324   \n",
       "TWII    8907.219917  0.490664  4.507261    0.497407   0.100104   0.101141   \n",
       "\n",
       "       last_eq_2  last_eq_3  last_eq_4  last_eq_5  last_eq_6  last_eq_7  \\\n",
       "Index                                                                     \n",
       "DJI     0.104879   0.101228   0.094922   0.098905   0.098241   0.090939   \n",
       "FCHI    0.102703   0.105514   0.098378   0.097297   0.096216   0.102703   \n",
       "GDAXI   0.098164   0.097289   0.108439   0.100787   0.095540   0.105815   \n",
       "HS300   0.089680   0.104969   0.101441   0.103499   0.100265   0.107909   \n",
       "HSI     0.097588   0.098481   0.101161   0.093569   0.098928   0.097365   \n",
       "IXIC    0.103365   0.095008   0.093028   0.103145   0.104904   0.100066   \n",
       "JKSE    0.100000   0.098639   0.103175   0.108617   0.095238   0.095692   \n",
       "KS11    0.096673   0.105216   0.107014   0.101394   0.101844   0.101619   \n",
       "N225    0.084048   0.084048   0.113208   0.096055   0.094340   0.116638   \n",
       "SPX     0.108796   0.099295   0.085504   0.109102   0.093472   0.100215   \n",
       "SSEA    0.098295   0.103310   0.107322   0.096289   0.111334   0.100301   \n",
       "SZSC    0.101579   0.086479   0.105697   0.100892   0.101579   0.083047   \n",
       "TWII    0.095954   0.095954   0.104253   0.096992   0.106846   0.101660   \n",
       "\n",
       "       last_eq_8  \n",
       "Index             \n",
       "DJI     0.101560  \n",
       "FCHI    0.094486  \n",
       "GDAXI   0.098601  \n",
       "HS300   0.103499  \n",
       "HSI     0.102278  \n",
       "IXIC    0.094568  \n",
       "JKSE    0.091383  \n",
       "KS11    0.096448  \n",
       "N225    0.113208  \n",
       "SPX     0.100827  \n",
       "SSEA    0.111334  \n",
       "SZSC    0.104324  \n",
       "TWII    0.102178  "
      ]
     },
     "execution_count": 39,
     "metadata": {},
     "output_type": "execute_result"
    }
   ],
   "source": [
    "df_all.groupby(['Index']).mean()"
   ]
  },
  {
   "cell_type": "code",
   "execution_count": 51,
   "metadata": {
    "ExecuteTime": {
     "end_time": "2018-12-24T10:16:55.740967Z",
     "start_time": "2018-12-24T10:16:55.727096Z"
    }
   },
   "outputs": [
    {
     "data": {
      "text/plain": [
       "0.09999999999999964"
      ]
     },
     "execution_count": 51,
     "metadata": {},
     "output_type": "execute_result"
    }
   ],
   "source": [
    "(0.12 * 75) - (0.89 * 10)"
   ]
  },
  {
   "cell_type": "code",
   "execution_count": 52,
   "metadata": {
    "ExecuteTime": {
     "end_time": "2018-12-24T10:18:02.606537Z",
     "start_time": "2018-12-24T10:18:02.590727Z"
    }
   },
   "outputs": [
    {
     "data": {
      "text/plain": [
       "-0.06799999999999962"
      ]
     },
     "execution_count": 52,
     "metadata": {},
     "output_type": "execute_result"
    }
   ],
   "source": [
    "(0.52 * 9.1) - (0.48 * 10)"
   ]
  },
  {
   "cell_type": "code",
   "execution_count": null,
   "metadata": {},
   "outputs": [],
   "source": []
  }
 ],
 "metadata": {
  "kernelspec": {
   "display_name": "Python 3",
   "language": "python",
   "name": "python3"
  },
  "language_info": {
   "codemirror_mode": {
    "name": "ipython",
    "version": 3
   },
   "file_extension": ".py",
   "mimetype": "text/x-python",
   "name": "python",
   "nbconvert_exporter": "python",
   "pygments_lexer": "ipython3",
   "version": "3.6.6"
  },
  "toc": {
   "base_numbering": 1,
   "nav_menu": {},
   "number_sections": true,
   "sideBar": true,
   "skip_h1_title": false,
   "title_cell": "Table of Contents",
   "title_sidebar": "Contents",
   "toc_cell": false,
   "toc_position": {},
   "toc_section_display": true,
   "toc_window_display": false
  },
  "varInspector": {
   "cols": {
    "lenName": 16,
    "lenType": 16,
    "lenVar": 40
   },
   "kernels_config": {
    "python": {
     "delete_cmd_postfix": "",
     "delete_cmd_prefix": "del ",
     "library": "var_list.py",
     "varRefreshCmd": "print(var_dic_list())"
    },
    "r": {
     "delete_cmd_postfix": ") ",
     "delete_cmd_prefix": "rm(",
     "library": "var_list.r",
     "varRefreshCmd": "cat(var_dic_list()) "
    }
   },
   "types_to_exclude": [
    "module",
    "function",
    "builtin_function_or_method",
    "instance",
    "_Feature"
   ],
   "window_display": false
  }
 },
 "nbformat": 4,
 "nbformat_minor": 2
}
