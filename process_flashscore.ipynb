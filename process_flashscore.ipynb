{
 "cells": [
  {
   "cell_type": "code",
   "execution_count": 1,
   "metadata": {
    "ExecuteTime": {
     "end_time": "2018-12-27T16:14:57.200070Z",
     "start_time": "2018-12-27T16:14:56.566582Z"
    },
    "collapsed": true
   },
   "outputs": [],
   "source": [
    "import pandas as pd\n",
    "import numpy as np\n",
    "import os"
   ]
  },
  {
   "cell_type": "code",
   "execution_count": 2,
   "metadata": {
    "ExecuteTime": {
     "end_time": "2018-12-27T16:15:41.352201Z",
     "start_time": "2018-12-27T16:14:57.950205Z"
    },
    "collapsed": true
   },
   "outputs": [],
   "source": [
    "for country_div in os.listdir('football_flashscore_data/'):\n",
    "    if '.DS_Sto' in country_div:\n",
    "        continue\n",
    "    df_country = pd.DataFrame(columns=['Country', 'Div', 'Date', 'HomeTeam', 'AwayTeam', 'FTHG', 'FTAG'])\n",
    "    for year in os.listdir('football_flashscore_data/' + country_div):\n",
    "        with open('football_flashscore_data/' + country_div + '/' +year, 'r') as f:\n",
    "            for l in f:\n",
    "                l = l.strip()\n",
    "                if len(l) < 15 or '.' not in l or ':' not in l:\n",
    "                    continue\n",
    "                items = l.split('\\t')\n",
    "                Country, Div = country_div.split('_')\n",
    "                Date = items[0]\n",
    "                Date = Date[:6] + year\n",
    "                Date = Date.replace('.', '/')\n",
    "                HomeTeam = items[1]\n",
    "                AwayTeam = items[2]\n",
    "                FTHG = items[3].split(' : ')[0]\n",
    "                FTAG = items[3].split(' : ')[1]\n",
    "                df_country.loc[df_country.shape[0]] = [Country, Div, Date, HomeTeam, AwayTeam, FTHG, FTAG]\n",
    "        \n",
    "    df_country[['day', 'month', 'year']] = df_country['Date'].str.split('/', expand=True)\n",
    "    df_country['year'] = df_country['year'].astype(int)\n",
    "    df_country.loc[df_country['month'] > '06', 'year'] = df_country.loc[df_country['month'] > '06', 'year'] - 1\n",
    "    df_country.loc[df_country['year'] < 0, 'year'] += 100\n",
    "    df_country['year'] = df_country['year'].astype(str)\n",
    "    df_country['year'] = df_country['year'].map(lambda x: '0' + x if len(x) < 2 else x)\n",
    "    df_country.sort_values(['year', 'month', 'day'], inplace=True)\n",
    "    df_country['Date'] = df_country['day'] + '/' + df_country['month'] + '/' + df_country['year']\n",
    "    df_country.drop(['day', 'month', 'year'], axis=1, inplace=True)\n",
    "    df_country.to_csv('football_data/FlashScore/{}.csv'.format(country_div), index=False)"
   ]
  },
  {
   "cell_type": "code",
   "execution_count": 36,
   "metadata": {
    "ExecuteTime": {
     "end_time": "2018-12-26T06:20:50.094192Z",
     "start_time": "2018-12-26T06:20:50.083758Z"
    },
    "collapsed": true
   },
   "outputs": [],
   "source": []
  },
  {
   "cell_type": "code",
   "execution_count": null,
   "metadata": {
    "collapsed": true
   },
   "outputs": [],
   "source": []
  }
 ],
 "metadata": {
  "kernelspec": {
   "display_name": "Python 3",
   "language": "python",
   "name": "python3"
  },
  "language_info": {
   "codemirror_mode": {
    "name": "ipython",
    "version": 3
   },
   "file_extension": ".py",
   "mimetype": "text/x-python",
   "name": "python",
   "nbconvert_exporter": "python",
   "pygments_lexer": "ipython3",
   "version": "3.6.7"
  },
  "toc": {
   "base_numbering": 1,
   "nav_menu": {},
   "number_sections": true,
   "sideBar": true,
   "skip_h1_title": false,
   "title_cell": "Table of Contents",
   "title_sidebar": "Contents",
   "toc_cell": false,
   "toc_position": {},
   "toc_section_display": true,
   "toc_window_display": false
  },
  "varInspector": {
   "cols": {
    "lenName": 16,
    "lenType": 16,
    "lenVar": 40
   },
   "kernels_config": {
    "python": {
     "delete_cmd_postfix": "",
     "delete_cmd_prefix": "del ",
     "library": "var_list.py",
     "varRefreshCmd": "print(var_dic_list())"
    },
    "r": {
     "delete_cmd_postfix": ") ",
     "delete_cmd_prefix": "rm(",
     "library": "var_list.r",
     "varRefreshCmd": "cat(var_dic_list()) "
    }
   },
   "types_to_exclude": [
    "module",
    "function",
    "builtin_function_or_method",
    "instance",
    "_Feature"
   ],
   "window_display": false
  }
 },
 "nbformat": 4,
 "nbformat_minor": 2
}
