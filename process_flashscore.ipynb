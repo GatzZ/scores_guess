{
 "cells": [
  {
   "cell_type": "code",
   "execution_count": 20,
   "metadata": {
    "ExecuteTime": {
     "end_time": "2018-12-26T06:07:11.607421Z",
     "start_time": "2018-12-26T06:07:11.588377Z"
    }
   },
   "outputs": [],
   "source": [
    "import pandas as pd\n",
    "import numpy as np\n",
    "import os"
   ]
  },
  {
   "cell_type": "code",
   "execution_count": 40,
   "metadata": {
    "ExecuteTime": {
     "end_time": "2018-12-26T06:30:07.418363Z",
     "start_time": "2018-12-26T06:29:43.346597Z"
    }
   },
   "outputs": [],
   "source": [
    "for country_div in os.listdir('football_flashscore_data/'):\n",
    "    if '.DS_Sto' in country_div:\n",
    "        continue\n",
    "    df_country = pd.DataFrame(columns=['Country', 'Div', 'Date', 'HomeTeam', 'AwayTeam', 'FTHG', 'FTAG'])\n",
    "    for year in os.listdir('football_flashscore_data/' + country_div):\n",
    "        with open('football_flashscore_data/' + country_div + '/' +year, 'r') as f:\n",
    "            for l in f:\n",
    "                l = l.strip()\n",
    "                if len(l) < 15 or '.' not in l or ':' not in l:\n",
    "                    continue\n",
    "                items = l.split('\\t')\n",
    "                Country, Div = country_div.split('_')\n",
    "                Date = items[0]\n",
    "                Date = Date[:6] + year\n",
    "                Date = Date.replace('.', '/')\n",
    "                HomeTeam = items[1]\n",
    "                AwayTeam = items[2]\n",
    "                FTHG = items[3].split(' : ')[0]\n",
    "                FTAG = items[3].split(' : ')[1]\n",
    "                df_country.loc[df_country.shape[0]] = [Country, Div, Date, HomeTeam, AwayTeam, FTHG, FTAG]\n",
    "        \n",
    "    df_country[['day', 'month', 'year']] = df_country['Date'].str.split('/', expand=True)\n",
    "    df_country['year'] = df_country['year'].astype(int)\n",
    "    df_country.loc[df_country['month'] > '06', 'year'] = df_country.loc[df_country['month'] > '06', 'year'] - 1\n",
    "    df_country.loc[df_country['year'] < 0, 'year'] += 100\n",
    "    df_country['year'] = df_country['year'].astype(str)\n",
    "    df_country['year'] = df_country['year'].map(lambda x: '0' + x if len(x) < 2 else x)\n",
    "    df_country.sort_values(['year', 'month', 'day'], inplace=True)\n",
    "    df_country['Date'] = df_country['day'] + '/' + df_country['month'] + '/' + df_country['year']\n",
    "    df_country.drop(['day', 'month', 'year'], axis=1, inplace=True)\n",
    "    df_country.to_csv('football_data/FlashScore/{}.csv'.format(country_div), index=False)"
   ]
  },
  {
   "cell_type": "code",
   "execution_count": 36,
   "metadata": {
    "ExecuteTime": {
     "end_time": "2018-12-26T06:20:50.094192Z",
     "start_time": "2018-12-26T06:20:50.083758Z"
    }
   },
   "outputs": [],
   "source": []
  },
  {
   "cell_type": "code",
   "execution_count": 33,
   "metadata": {
    "ExecuteTime": {
     "end_time": "2018-12-26T06:17:41.409310Z",
     "start_time": "2018-12-26T06:17:41.383956Z"
    }
   },
   "outputs": [
    {
     "data": {
      "text/plain": [
       "414    True\n",
       "415    True\n",
       "412    True\n",
       "413    True\n",
       "410    True\n",
       "411    True\n",
       "408    True\n",
       "409    True\n",
       "407    True\n",
       "405    True\n",
       "406    True\n",
       "404    True\n",
       "403    True\n",
       "402    True\n",
       "400    True\n",
       "401    True\n",
       "399    True\n",
       "398    True\n",
       "396    True\n",
       "397    True\n",
       "395    True\n",
       "393    True\n",
       "394    True\n",
       "392    True\n",
       "391    True\n",
       "390    True\n",
       "389    True\n",
       "388    True\n",
       "387    True\n",
       "385    True\n",
       "       ... \n",
       "29     True\n",
       "28     True\n",
       "26     True\n",
       "27     True\n",
       "24     True\n",
       "25     True\n",
       "23     True\n",
       "21     True\n",
       "22     True\n",
       "19     True\n",
       "20     True\n",
       "18     True\n",
       "16     True\n",
       "17     True\n",
       "14     True\n",
       "15     True\n",
       "13     True\n",
       "10     True\n",
       "11     True\n",
       "12     True\n",
       "9      True\n",
       "8      True\n",
       "6      True\n",
       "7      True\n",
       "4      True\n",
       "5      True\n",
       "3      True\n",
       "1      True\n",
       "2      True\n",
       "0      True\n",
       "Name: month, Length: 1700, dtype: bool"
      ]
     },
     "execution_count": 33,
     "metadata": {},
     "output_type": "execute_result"
    }
   ],
   "source": [
    "df_country['month'] > '06'"
   ]
  },
  {
   "cell_type": "code",
   "execution_count": null,
   "metadata": {},
   "outputs": [],
   "source": []
  }
 ],
 "metadata": {
  "kernelspec": {
   "display_name": "Python 3",
   "language": "python",
   "name": "python3"
  },
  "language_info": {
   "codemirror_mode": {
    "name": "ipython",
    "version": 3
   },
   "file_extension": ".py",
   "mimetype": "text/x-python",
   "name": "python",
   "nbconvert_exporter": "python",
   "pygments_lexer": "ipython3",
   "version": "3.6.6"
  },
  "toc": {
   "base_numbering": 1,
   "nav_menu": {},
   "number_sections": true,
   "sideBar": true,
   "skip_h1_title": false,
   "title_cell": "Table of Contents",
   "title_sidebar": "Contents",
   "toc_cell": false,
   "toc_position": {},
   "toc_section_display": true,
   "toc_window_display": false
  },
  "varInspector": {
   "cols": {
    "lenName": 16,
    "lenType": 16,
    "lenVar": 40
   },
   "kernels_config": {
    "python": {
     "delete_cmd_postfix": "",
     "delete_cmd_prefix": "del ",
     "library": "var_list.py",
     "varRefreshCmd": "print(var_dic_list())"
    },
    "r": {
     "delete_cmd_postfix": ") ",
     "delete_cmd_prefix": "rm(",
     "library": "var_list.r",
     "varRefreshCmd": "cat(var_dic_list()) "
    }
   },
   "types_to_exclude": [
    "module",
    "function",
    "builtin_function_or_method",
    "instance",
    "_Feature"
   ],
   "window_display": false
  }
 },
 "nbformat": 4,
 "nbformat_minor": 2
}
